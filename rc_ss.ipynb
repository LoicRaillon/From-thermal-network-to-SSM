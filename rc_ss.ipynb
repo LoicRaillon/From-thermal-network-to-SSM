{
 "cells": [
  {
   "cell_type": "code",
   "execution_count": 1,
   "metadata": {},
   "outputs": [],
   "source": [
    "\"\"\"For further details, see, e.g.\n",
    "Ghiaus, C.\n",
    "Causality issue in the heat balance method for calculating the design heating and cooling load \n",
    "Energy, 2013, 50, 292 - 301\n",
    "\n",
    "or section 2.2.1 of my PhD thesis accessible at\n",
    "https://www.researchgate.net/publication/326058713_Experimental_Identification_of_Physical_Thermal_Models_for_Demand_Response_and_Performance_Evaluation\n",
    "\"\"\"\n",
    "from sympy import *\n",
    "init_printing(use_unicode=True)"
   ]
  },
  {
   "cell_type": "code",
   "execution_count": 2,
   "metadata": {},
   "outputs": [],
   "source": [
    "# Nodes without thermal capacity must be placed on the left\n",
    "Ro, Ri, Cw, Ci, Aw, Ai = symbols('Ro, Ri, Cw, Ci, Aw, Ai')\n",
    "R = diag(Ro, Ri)\n",
    "C = diag(Cw, Ci)"
   ]
  },
  {
   "cell_type": "code",
   "execution_count": 3,
   "metadata": {},
   "outputs": [],
   "source": [
    "A = Matrix([[1, 0], [-1, 1]])  # Incidence matrix\n",
    "nu = 3  # Number of inputs, e.g. Outdoor temperature, Solar irradiance, Heating power\n",
    "u = [True, False, True, True]  # Mask for removing temperature or heat flux sources set to zero"
   ]
  },
  {
   "cell_type": "code",
   "execution_count": 4,
   "metadata": {},
   "outputs": [],
   "source": [
    "nb = R.shape[0]  # Number of branches\n",
    "nn = C.shape[0]  # Number of nodes\n",
    "nz = 0  # Number of nodes without thermal capacity\n",
    "for i in range(nn):\n",
    "    if C[i, i] == 0:\n",
    "        nz += 1"
   ]
  },
  {
   "cell_type": "code",
   "execution_count": 5,
   "metadata": {},
   "outputs": [],
   "source": [
    "G = R.inv()\n",
    "Cc = C[nz:, nz:]\n",
    "nx = Cc.shape[0]  # Number of states"
   ]
  },
  {
   "cell_type": "code",
   "execution_count": 6,
   "metadata": {},
   "outputs": [],
   "source": [
    "# Build state-space model\n",
    "K = -A.T @ G @ A\n",
    "K11 = K[:nz, :nz]\n",
    "K12 = K[:nz, nz:]\n",
    "K21 = K[nz:, :nz]\n",
    "K22 = K[nz:, nz:]\n",
    "\n",
    "Kb = A.T @ G\n",
    "Kb1 = Kb[:nz, :]\n",
    "Kb2 = Kb[nz:, :]\n",
    "\n",
    "As = simplify(Cc.inv() @ (-K21 @ K11.inv() @ K12 + K22))\n",
    "Bs0 = Cc.inv() @ (-K21 @ K11.inv() @ Kb1 + Kb2)\n",
    "Bs1 = Cc.inv() @ -K21 @ K11.inv()\n",
    "Bs2 = Cc.inv()\n",
    "if Bs1.is_zero:\n",
    "    Bs = Matrix(BlockMatrix([[Bs0, Bs2]]).as_explicit())\n",
    "else:\n",
    "    Bs = Matrix(BlockMatrix([[Bs0, Bs1, Bs2]]).as_explicit())\n",
    "\n",
    "Cs = simplify(-K11.inv() @ K12)\n",
    "ny = Cs.shape[0]\n",
    "Ds0 = simplify(-K11.inv() @ Kb1)\n",
    "Ds1 = simplify(-K11.inv())\n",
    "Ds2 = zeros(ny, nu)\n",
    "Ds = Matrix(BlockMatrix([[Ds0, Ds1, Ds2]]).as_explicit())\n",
    "\n",
    "Bs = simplify(Bs[:, u])\n",
    "if not Ds.is_zero:\n",
    "    Ds = simplify(Ds[:, u])"
   ]
  },
  {
   "cell_type": "code",
   "execution_count": 7,
   "metadata": {},
   "outputs": [],
   "source": [
    "# Additional parameters of the input matrix\n",
    "Bs2 = zeros(nx, nu)\n",
    "Bs2[0, 0] = Bs[0, 0]\n",
    "Bs2[0, 1] = Bs[0, 1] * Aw\n",
    "Bs2[1, 1] = Bs[1, 2] * Ai\n",
    "Bs2[1, 2] = Bs[1, 2]\n",
    "Bs = simplify(Bs2)"
   ]
  },
  {
   "cell_type": "code",
   "execution_count": 8,
   "metadata": {},
   "outputs": [
    {
     "name": "stdout",
     "output_type": "stream",
     "text": [
      "Matrix([[-(Ri + Ro)/(Cw*Ri*Ro), 1/(Cw*Ri)], [1/(Ci*Ri), -1/(Ci*Ri)]])\n"
     ]
    }
   ],
   "source": [
    "# State matrix\n",
    "print(As)"
   ]
  },
  {
   "cell_type": "code",
   "execution_count": 10,
   "metadata": {},
   "outputs": [
    {
     "name": "stdout",
     "output_type": "stream",
     "text": [
      "Matrix([[1/(Cw*Ro), Aw/Cw, 0], [0, Ai/Ci, 1/Ci]])\n"
     ]
    }
   ],
   "source": [
    "# Input matrix\n",
    "print(Bs)"
   ]
  },
  {
   "cell_type": "code",
   "execution_count": 13,
   "metadata": {},
   "outputs": [
    {
     "name": "stdout",
     "output_type": "stream",
     "text": [
      "\n",
      "dA / dCi\n",
      "--------\n",
      "Matrix([[0, 0], [-1/(Ci**2*Ri), 1/(Ci**2*Ri)]])\n",
      "\n",
      "dA / dRi\n",
      "--------\n",
      "Matrix([[1/(Cw*Ri**2), -1/(Cw*Ri**2)], [-1/(Ci*Ri**2), 1/(Ci*Ri**2)]])\n",
      "\n",
      "dA / dRo\n",
      "--------\n",
      "Matrix([[1/(Cw*Ro**2), 0], [0, 0]])\n",
      "\n",
      "dA / dCw\n",
      "--------\n",
      "Matrix([[(Ri + Ro)/(Cw**2*Ri*Ro), -1/(Cw**2*Ri)], [0, 0]])\n"
     ]
    }
   ],
   "source": [
    "# Jacobian state matrix\n",
    "for s in As.free_symbols:\n",
    "    print(f\"\\ndA / d{s}\")\n",
    "    print(\"-\" * 8)\n",
    "    print(simplify(diff(As, s)))"
   ]
  },
  {
   "cell_type": "code",
   "execution_count": 14,
   "metadata": {},
   "outputs": [
    {
     "name": "stdout",
     "output_type": "stream",
     "text": [
      "\n",
      "dB / dCi\n",
      "--------\n",
      "Matrix([[0, 0, 0], [0, -Ai/Ci**2, -1/Ci**2]])\n",
      "\n",
      "dB / dAw\n",
      "--------\n",
      "Matrix([[0, 1/Cw, 0], [0, 0, 0]])\n",
      "\n",
      "dB / dRo\n",
      "--------\n",
      "Matrix([[-1/(Cw*Ro**2), 0, 0], [0, 0, 0]])\n",
      "\n",
      "dB / dAi\n",
      "--------\n",
      "Matrix([[0, 0, 0], [0, 1/Ci, 0]])\n",
      "\n",
      "dB / dCw\n",
      "--------\n",
      "Matrix([[-1/(Cw**2*Ro), -Aw/Cw**2, 0], [0, 0, 0]])\n"
     ]
    }
   ],
   "source": [
    "# Jacobian input matrix\n",
    "for s in Bs.free_symbols:\n",
    "    print(f\"\\ndB / d{s}\")\n",
    "    print(\"-\" * 8)\n",
    "    print(simplify(diff(Bs, s)))"
   ]
  },
  {
   "cell_type": "code",
   "execution_count": null,
   "metadata": {},
   "outputs": [],
   "source": []
  }
 ],
 "metadata": {
  "kernelspec": {
   "display_name": "Python 3",
   "language": "python",
   "name": "python3"
  },
  "language_info": {
   "codemirror_mode": {
    "name": "ipython",
    "version": 3
   },
   "file_extension": ".py",
   "mimetype": "text/x-python",
   "name": "python",
   "nbconvert_exporter": "python",
   "pygments_lexer": "ipython3",
   "version": "3.7.5"
  }
 },
 "nbformat": 4,
 "nbformat_minor": 2
}
