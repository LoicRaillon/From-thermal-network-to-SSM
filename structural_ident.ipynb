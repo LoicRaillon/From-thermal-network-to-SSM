{
 "cells": [
  {
   "cell_type": "code",
   "execution_count": 3,
   "metadata": {},
   "outputs": [],
   "source": [
    "\"\"\"References\n",
    "Ghiaus, C.\n",
    "Causality issue in the heat balance method for calculating the design heating and cooling load\n",
    "Energy, 2013, 50, 292 - 301\n",
    "\n",
    "Raillon, L.\n",
    "Experimental Identification of Physical Thermal Models for Demand Response and Performance\n",
    "Evaluation, https://www.researchgate.net/publication/326058713_\n",
    "\"\"\"\n",
    "from sympy import *\n",
    "\n",
    "init_printing(use_unicode=True)\n",
    "\n",
    "# Nodes without thermal capacity must be placed on the left\n",
    "Ro, Ri, Cw, Ci, Aw, Ai = symbols('Ro, Ri, Cw, Ci, Aw, Ai')\n",
    "s = symbols('s')  # Laplace operator"
   ]
  },
  {
   "cell_type": "code",
   "execution_count": 4,
   "metadata": {},
   "outputs": [],
   "source": [
    "R = diag(Ro, Ri)\n",
    "C = diag(Cw, Ci)\n",
    "\n",
    "A = Matrix([[1, 0], [-1, 1]])  # Incidence matrix\n",
    "nu = 3  # Number of inputs, e.g. Outdoor temperature, Solar irradiance, Heating power\n",
    "u = [True, False, True, True]  # Mask for removing temperature or heat flux sources set to zero\n",
    "\n",
    "nb = R.shape[0]  # Number of branches\n",
    "nn = C.shape[0]  # Number of nodes\n",
    "nz = 0  # Number of nodes without thermal capacity\n",
    "for i in range(nn):\n",
    "    if C[i, i] == 0:\n",
    "        nz += 1\n",
    "\n",
    "G = R.inv()\n",
    "Cc = C[nz:, nz:]\n",
    "nx = Cc.shape[0]  # Number of states"
   ]
  },
  {
   "cell_type": "code",
   "execution_count": 5,
   "metadata": {},
   "outputs": [],
   "source": [
    "# Build state-space model\n",
    "K = -A.T @ G @ A\n",
    "K11 = K[:nz, :nz]\n",
    "K12 = K[:nz, nz:]\n",
    "K21 = K[nz:, :nz]\n",
    "K22 = K[nz:, nz:]\n",
    "\n",
    "Kb = A.T @ G\n",
    "Kb1 = Kb[:nz, :]\n",
    "Kb2 = Kb[nz:, :]\n",
    "\n",
    "As = simplify(Cc.inv() @ (-K21 @ K11.inv() @ K12 + K22))\n",
    "Bs0 = Cc.inv() @ (-K21 @ K11.inv() @ Kb1 + Kb2)\n",
    "Bs1 = Cc.inv() @ -K21 @ K11.inv()\n",
    "Bs2 = Cc.inv()\n",
    "if Bs1.is_zero:\n",
    "    Bs = Matrix(BlockMatrix([[Bs0, Bs2]]).as_explicit())\n",
    "else:\n",
    "    Bs = Matrix(BlockMatrix([[Bs0, Bs1, Bs2]]).as_explicit())\n",
    "\n",
    "Cs = simplify(-K11.inv() @ K12)\n",
    "ny = Cs.shape[0]\n",
    "Ds0 = simplify(-K11.inv() @ Kb1)\n",
    "Ds1 = simplify(-K11.inv())\n",
    "Ds2 = zeros(ny, nu)\n",
    "Ds = Matrix(BlockMatrix([[Ds0, Ds1, Ds2]]).as_explicit())\n",
    "\n",
    "Bs = simplify(Bs[:, u])\n",
    "if not Ds.is_zero:\n",
    "    Ds = simplify(Ds[:, u])\n",
    "\n",
    "# Additional parameters of the input matrix\n",
    "Bs2 = zeros(nx, nu)\n",
    "Bs2[0, 0] = Bs[0, 0]\n",
    "Bs2[0, 1] = Bs[0, 1] * Aw\n",
    "Bs2[1, 1] = Bs[1, 2] * Ai\n",
    "Bs2[1, 2] = Bs[1, 2]\n",
    "Bs = simplify(Bs2)\n"
   ]
  },
  {
   "cell_type": "code",
   "execution_count": 6,
   "metadata": {},
   "outputs": [
    {
     "name": "stdout",
     "output_type": "stream",
     "text": [
      "Solution\n",
      "--------\n",
      "Ci: x5/x3\n",
      "Ro: (x0*x1*x3 - x1**2*x5 - x3**2)/(x0*x3 - x1*x5)\n",
      "Cw: (x0*x3 - x1*x5)**2/(x3*(x0*x1*x3 - x1**2*x5 - x3**2))\n",
      "Ri: x3**2/(x0*x3 - x1*x5)\n",
      "Ai: x4/x3\n",
      "Aw: -(x0*x3 - x1*x5)*(x1*x4 - x2*x3)/(x3*(x0*x1*x3 - x1**2*x5 - x3**2))\n"
     ]
    }
   ],
   "source": [
    "# Check observability and structural identifiability for MISO LTI system\n",
    "Cs = Matrix([0, 1]).T\n",
    "sI = s * eye(nx)\n",
    "\n",
    "# Check the observability of the system\n",
    "Obs = [Cs]\n",
    "for i in range(1, nx):\n",
    "    Obs.append(Cs @ As ** i)\n",
    "\n",
    "if not Matrix(Obs).rank() == nx:\n",
    "    raise ValueError('The model is not observable')\n",
    "\n",
    "eqs = []\n",
    "for i in range(nu):\n",
    "    H = collect(cancel(simplify(Cs @ (sI - As).inv() @ Bs[:, i]))[0], s)\n",
    "    n, d = fraction(H)\n",
    "    eqs += [c for c in Poly(n, s).coeffs() + Poly(d, s).coeffs() if c != 1]\n",
    "\n",
    "eqs = list(set(eqs))\n",
    "rc_par = list(set(list(As.free_symbols) + list(Bs.free_symbols)))\n",
    "if not len(rc_par) == len(eqs):\n",
    "    raise ValueError('The model is not structurally identifiable')\n",
    "\n",
    "sys_eq = []\n",
    "for i in range(len(eqs)):\n",
    "    sys_eq += [Eq(eqs[i], symbols('x%d' % i))]\n",
    "\n",
    "print('Solution')\n",
    "print('-' * 8)\n",
    "results = solve(sys_eq, rc_par, dict=True)[0]\n",
    "for k, v in results.items():\n",
    "    print(f'{k}: {v}')\n"
   ]
  }
 ],
 "metadata": {
  "kernelspec": {
   "display_name": "Python 3",
   "language": "python",
   "name": "python3"
  },
  "language_info": {
   "codemirror_mode": {
    "name": "ipython",
    "version": 3
   },
   "file_extension": ".py",
   "mimetype": "text/x-python",
   "name": "python",
   "nbconvert_exporter": "python",
   "pygments_lexer": "ipython3",
   "version": "3.7.5"
  }
 },
 "nbformat": 4,
 "nbformat_minor": 2
}
